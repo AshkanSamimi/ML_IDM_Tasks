{
 "cells": [
  {
   "cell_type": "markdown",
   "metadata": {},
   "source": [
    "<p style=\"text-align:center\">\n",
    "    <a href=\"https://skills.network/?utm_medium=Exinfluencer&utm_source=Exinfluencer&utm_content=000026UJ&utm_term=10006555&utm_id=NA-SkillsNetwork-Channel-SkillsNetworkCoursesIBMDS0321ENSkillsNetwork26802033-2022-01-01\" target=\"_blank\">\n",
    "    <img src=\"https://cf-courses-data.s3.us.cloud-object-storage.appdomain.cloud/assets/logos/SN_web_lightmode.png\" width=\"200\" alt=\"Skills Network Logo\"  />\n",
    "    </a>\n",
    "</p>\n",
    "\n",
    "<h1 align=center><font size = 5>Assignment: SQL Notebook for Peer Assignment</font></h1>\n",
    "\n",
    "Estimated time needed: **60** minutes.\n",
    "\n",
    "## Introduction\n",
    "\n",
    "Using this Python notebook you will:\n",
    "\n",
    "1.  Understand the Spacex DataSet\n",
    "2.  Load the dataset  into the corresponding table in a Db2 database\n",
    "3.  Execute SQL queries to answer assignment questions\n"
   ]
  },
  {
   "cell_type": "markdown",
   "metadata": {},
   "source": [
    "## Overview of the DataSet\n",
    "\n",
    "SpaceX has gained worldwide attention for a series of historic milestones.\n",
    "\n",
    "It is the only private company ever to return a spacecraft from low-earth orbit, which it first accomplished in December 2010.\n",
    "SpaceX advertises Falcon 9 rocket launches on its website with a cost of 62 million dollars wheras other providers cost upward of 165 million dollars each, much of the savings is because Space X can reuse the first stage.\n",
    "\n",
    "Therefore if we can determine if the first stage will land, we can determine the cost of a launch.\n",
    "\n",
    "This information can be used if an alternate company wants to bid against SpaceX for a rocket launch.\n",
    "\n",
    "This dataset includes a record for each payload carried during a SpaceX mission into outer space.\n"
   ]
  },
  {
   "cell_type": "markdown",
   "metadata": {},
   "source": [
    "### Download the datasets\n",
    "\n",
    "This assignment requires you to load the spacex dataset.\n",
    "\n",
    "In many cases the dataset to be analyzed is available as a .CSV (comma separated values) file, perhaps on the internet. Click on the link below to download and save the dataset (.CSV file):\n",
    "\n",
    "<a href=\"https://cf-courses-data.s3.us.cloud-object-storage.appdomain.cloud/IBM-DS0321EN-SkillsNetwork/labs/module_2/data/Spacex.csv?utm_medium=Exinfluencer&utm_source=Exinfluencer&utm_content=000026UJ&utm_term=10006555&utm_id=NA-SkillsNetwork-Channel-SkillsNetworkCoursesIBMDS0321ENSkillsNetwork26802033-2022-01-01\" target=\"_blank\">Spacex DataSet</a>\n"
   ]
  },
  {
   "cell_type": "markdown",
   "metadata": {},
   "source": [
    "### Store the dataset in database table\n",
    "\n",
    "**it is highly recommended to manually load the table using the database console LOAD tool in DB2**.\n",
    "\n",
    "<img src = \"https://cf-courses-data.s3.us.cloud-object-storage.appdomain.cloud/IBM-DS0321EN-SkillsNetwork/labs/module_2/images/spacexload.png\">\n",
    "\n",
    "Now open the Db2 console, open the LOAD tool, Select / Drag the .CSV file for the  dataset, Next create a New Table, and then follow the steps on-screen instructions to load the data. Name the new table as follows:\n",
    "\n",
    "**SPACEXDATASET**\n",
    "\n",
    "**Follow these steps while using old DB2 UI which is having Open Console Screen**\n",
    "\n",
    "**Note:While loading Spacex dataset, ensure that detect datatypes is disabled. Later click on the pencil icon(edit option).**\n",
    "\n",
    "1.  Change the Date Format by manually typing DD-MM-YYYY and timestamp format as DD-MM-YYYY HH\\:MM:SS\n",
    "\n",
    "2.  Change the PAYLOAD_MASS\\_\\_KG\\_  datatype  to INTEGER.\n",
    "\n",
    "<img src = \"https://cf-courses-data.s3.us.cloud-object-storage.appdomain.cloud/IBM-DS0321EN-SkillsNetwork/labs/module_2/images/spacexload2.png\">\n"
   ]
  },
  {
   "cell_type": "markdown",
   "metadata": {},
   "source": [
    "**Changes to be considered when having DB2 instance with the new UI having Go to UI screen**\n",
    "\n",
    "*   Refer to this insruction in this <a href=\"https://cf-courses-data.s3.us.cloud-object-storage.appdomain.cloud/IBMDeveloperSkillsNetwork-DB0201EN-SkillsNetwork/labs/Labs_Coursera_V5/labs/Lab%20-%20Sign%20up%20for%20IBM%20Cloud%20-%20Create%20Db2%20service%20instance%20-%20Get%20started%20with%20the%20Db2%20console/instructional-labs.md.html?utm_medium=Exinfluencer&utm_source=Exinfluencer&utm_content=000026UJ&utm_term=10006555&utm_id=NA-SkillsNetwork-Channel-SkillsNetworkCoursesIBMDS0321ENSkillsNetwork26802033-2022-01-01\">link</a> for viewing  the new  Go to UI screen.\n",
    "\n",
    "*   Later click on **Data link(below SQL)**  in the Go to UI screen  and click on **Load Data** tab.\n",
    "\n",
    "*   Later browse for the downloaded spacex file.\n",
    "\n",
    "<img src=\"https://cf-courses-data.s3.us.cloud-object-storage.appdomain.cloud/IBM-DS0321EN-SkillsNetwork/labs/module_2/images/browsefile.png\" width=\"800\"/>\n",
    "\n",
    "*   Once done select the schema andload the file.\n",
    "\n",
    " <img src=\"https://cf-courses-data.s3.us.cloud-object-storage.appdomain.cloud/IBM-DS0321EN-SkillsNetwork/labs/module_2/images/spacexload3.png\" width=\"800\"/>\n"
   ]
  },
  {
   "cell_type": "code",
   "execution_count": 1,
   "metadata": {},
   "outputs": [
    {
     "name": "stdout",
     "output_type": "stream",
     "text": [
      "Collecting sqlalchemy==1.3.9\n",
      "  Downloading SQLAlchemy-1.3.9.tar.gz (6.0 MB)\n",
      "\u001b[2K     \u001b[90m━━━━━━━━━━━━━━━━━━━━━━━━━━━━━━━━━━━━━━━━\u001b[0m \u001b[32m6.0/6.0 MB\u001b[0m \u001b[31m65.8 MB/s\u001b[0m eta \u001b[36m0:00:00\u001b[0m:00:01\u001b[0m00:01\u001b[0m\n",
      "\u001b[?25h  Preparing metadata (setup.py) ... \u001b[?25ldone\n",
      "\u001b[?25hBuilding wheels for collected packages: sqlalchemy\n",
      "  Building wheel for sqlalchemy (setup.py) ... \u001b[?25ldone\n",
      "\u001b[?25h  Created wheel for sqlalchemy: filename=SQLAlchemy-1.3.9-cp37-cp37m-linux_x86_64.whl size=1159121 sha256=db48bc03e30cfaa853ce5f406740435f635e0920912cc99421e43f555901f0a8\n",
      "  Stored in directory: /home/jupyterlab/.cache/pip/wheels/ef/95/ac/c232f83b415900c26553c64266e1a2b2863bc63e7a5d606c7e\n",
      "Successfully built sqlalchemy\n",
      "Installing collected packages: sqlalchemy\n",
      "  Attempting uninstall: sqlalchemy\n",
      "    Found existing installation: SQLAlchemy 1.3.24\n",
      "    Uninstalling SQLAlchemy-1.3.24:\n",
      "      Successfully uninstalled SQLAlchemy-1.3.24\n",
      "Successfully installed sqlalchemy-1.3.9\n"
     ]
    }
   ],
   "source": [
    "!pip install sqlalchemy==1.3.9\n"
   ]
  },
  {
   "cell_type": "markdown",
   "metadata": {},
   "source": [
    "### Connect to the database\n",
    "\n",
    "Let us first load the SQL extension and establish a connection with the database\n"
   ]
  },
  {
   "cell_type": "code",
   "execution_count": 2,
   "metadata": {},
   "outputs": [],
   "source": [
    "%load_ext sql"
   ]
  },
  {
   "cell_type": "code",
   "execution_count": 3,
   "metadata": {},
   "outputs": [],
   "source": [
    "import csv, sqlite3\n",
    "\n",
    "con = sqlite3.connect(\"my_data1.db\")\n",
    "cur = con.cursor()"
   ]
  },
  {
   "cell_type": "code",
   "execution_count": 4,
   "metadata": {},
   "outputs": [],
   "source": [
    "!pip install -q pandas==1.1.5"
   ]
  },
  {
   "cell_type": "code",
   "execution_count": 5,
   "metadata": {},
   "outputs": [
    {
     "data": {
      "text/plain": [
       "'Connected: @my_data1.db'"
      ]
     },
     "execution_count": 5,
     "metadata": {},
     "output_type": "execute_result"
    }
   ],
   "source": [
    "%sql sqlite:///my_data1.db"
   ]
  },
  {
   "cell_type": "code",
   "execution_count": 6,
   "metadata": {},
   "outputs": [
    {
     "name": "stderr",
     "output_type": "stream",
     "text": [
      "/home/jupyterlab/conda/envs/python/lib/python3.7/site-packages/pandas/core/generic.py:2882: UserWarning: The spaces in these column names will not be changed. In pandas versions < 0.14, spaces were converted to underscores.\n",
      "  both result in 0.1234 being formatted as 0.12.\n"
     ]
    }
   ],
   "source": [
    "import pandas as pd\n",
    "df = pd.read_csv(\"https://cf-courses-data.s3.us.cloud-object-storage.appdomain.cloud/IBM-DS0321EN-SkillsNetwork/labs/module_2/data/Spacex.csv\")\n",
    "df.to_sql(\"SPACEXTBL\", con, if_exists='replace', index=False,method=\"multi\")\n"
   ]
  },
  {
   "cell_type": "markdown",
   "metadata": {},
   "source": [
    "## Tasks\n",
    "\n",
    "Now write and execute SQL queries to solve the assignment tasks.\n",
    "\n",
    "**Note: If the column names are in mixed case enclose it in double quotes\n",
    "For Example \"Landing_Outcome\"**\n",
    "\n",
    "### Task 1\n",
    "\n",
    "##### Display the names of the unique launch sites  in the space mission\n"
   ]
  },
  {
   "cell_type": "code",
   "execution_count": 7,
   "metadata": {},
   "outputs": [
    {
     "data": {
      "text/plain": [
       "[('CCAFS LC-40',), ('VAFB SLC-4E',), ('KSC LC-39A',), ('CCAFS SLC-40',)]"
      ]
     },
     "execution_count": 7,
     "metadata": {},
     "output_type": "execute_result"
    }
   ],
   "source": [
    "unique_launch = cur.execute(\"SELECT DISTINCT(Launch_Site) from SPACEXTBL\")\n",
    "unique_launch.fetchall()"
   ]
  },
  {
   "cell_type": "markdown",
   "metadata": {},
   "source": [
    "### Task 2\n",
    "\n",
    "##### Display 5 records where launch sites begin with the string 'KSC'\n"
   ]
  },
  {
   "cell_type": "code",
   "execution_count": 17,
   "metadata": {},
   "outputs": [
    {
     "data": {
      "text/plain": [
       "[('19-02-2017',\n",
       "  '14:39:00',\n",
       "  'F9 FT B1031.1',\n",
       "  'KSC LC-39A',\n",
       "  'SpaceX CRS-10',\n",
       "  2490,\n",
       "  'LEO (ISS)',\n",
       "  'NASA (CRS)',\n",
       "  'Success',\n",
       "  'Success (ground pad)'),\n",
       " ('16-03-2017',\n",
       "  '06:00:00',\n",
       "  'F9 FT B1030',\n",
       "  'KSC LC-39A',\n",
       "  'EchoStar 23',\n",
       "  5600,\n",
       "  'GTO',\n",
       "  'EchoStar',\n",
       "  'Success',\n",
       "  'No attempt'),\n",
       " ('30-03-2017',\n",
       "  '22:27:00',\n",
       "  'F9 FT  B1021.2',\n",
       "  'KSC LC-39A',\n",
       "  'SES-10',\n",
       "  5300,\n",
       "  'GTO',\n",
       "  'SES',\n",
       "  'Success',\n",
       "  'Success (drone ship)'),\n",
       " ('01-05-2017',\n",
       "  '11:15:00',\n",
       "  'F9 FT B1032.1',\n",
       "  'KSC LC-39A',\n",
       "  'NROL-76',\n",
       "  5300,\n",
       "  'LEO',\n",
       "  'NRO',\n",
       "  'Success',\n",
       "  'Success (ground pad)'),\n",
       " ('15-05-2017',\n",
       "  '23:21:00',\n",
       "  'F9 FT B1034',\n",
       "  'KSC LC-39A',\n",
       "  'Inmarsat-5 F4',\n",
       "  6070,\n",
       "  'GTO',\n",
       "  'Inmarsat',\n",
       "  'Success',\n",
       "  'No attempt'),\n",
       " ('03-06-2017',\n",
       "  '21:07:00',\n",
       "  'F9 FT B1035.1',\n",
       "  'KSC LC-39A',\n",
       "  'SpaceX CRS-11',\n",
       "  2708,\n",
       "  'LEO (ISS)',\n",
       "  'NASA (CRS)',\n",
       "  'Success',\n",
       "  'Success (ground pad)'),\n",
       " ('23-06-2017',\n",
       "  '19:10:00',\n",
       "  'F9 FT  B1029.2',\n",
       "  'KSC LC-39A',\n",
       "  'BulgariaSat-1',\n",
       "  3669,\n",
       "  'GTO',\n",
       "  'Bulsatcom',\n",
       "  'Success',\n",
       "  'Success (drone ship)'),\n",
       " ('05-07-2017',\n",
       "  '23:38:00',\n",
       "  'F9 FT B1037',\n",
       "  'KSC LC-39A',\n",
       "  'Intelsat 35e',\n",
       "  6761,\n",
       "  'GTO',\n",
       "  'Intelsat',\n",
       "  'Success',\n",
       "  'No attempt'),\n",
       " ('14-08-2017',\n",
       "  '16:31:00',\n",
       "  'F9 B4 B1039.1',\n",
       "  'KSC LC-39A',\n",
       "  'SpaceX CRS-12',\n",
       "  3310,\n",
       "  'LEO (ISS)',\n",
       "  'NASA (CRS)',\n",
       "  'Success',\n",
       "  'Success (ground pad)'),\n",
       " ('07-09-2017',\n",
       "  '14:00:00',\n",
       "  'F9 B4 B1040.1',\n",
       "  'KSC LC-39A',\n",
       "  'Boeing X-37B OTV-5',\n",
       "  4990,\n",
       "  'LEO',\n",
       "  'U.S. Air Force',\n",
       "  'Success',\n",
       "  'Success (ground pad)'),\n",
       " ('11-10-2017',\n",
       "  '22:53:00',\n",
       "  'F9 FT  B1031.2',\n",
       "  'KSC LC-39A',\n",
       "  'SES-11 / EchoStar 105',\n",
       "  5200,\n",
       "  'GTO',\n",
       "  'SES EchoStar',\n",
       "  'Success',\n",
       "  'Success (drone ship)'),\n",
       " ('30-10-2017',\n",
       "  '19:34:00',\n",
       "  'F9 B4 B1042.1',\n",
       "  'KSC LC-39A',\n",
       "  'Koreasat 5A',\n",
       "  3500,\n",
       "  'GTO',\n",
       "  'KT Corporation',\n",
       "  'Success',\n",
       "  'Success (drone ship)'),\n",
       " ('11-05-2018',\n",
       "  '20:14:00',\n",
       "  'F9 B5  B1046.1',\n",
       "  'KSC LC-39A',\n",
       "  'Bangabandhu-1',\n",
       "  3600,\n",
       "  'GTO',\n",
       "  'Thales-Alenia/BTRC',\n",
       "  'Success',\n",
       "  'Success (drone ship)'),\n",
       " ('15-11-2018',\n",
       "  '20:46:00',\n",
       "  'F9 B5 B1047.2',\n",
       "  'KSC LC-39A',\n",
       "  'Es hail 2',\n",
       "  5300,\n",
       "  'GTO',\n",
       "  'Es hailSat',\n",
       "  'Success',\n",
       "  'Success'),\n",
       " ('02-03-2019',\n",
       "  '07:49:00',\n",
       "  'F9 B5B1051.1',\n",
       "  'KSC LC-39A',\n",
       "  'Crew Dragon Demo-1, SpaceX CRS-17 ',\n",
       "  12055,\n",
       "  'LEO (ISS)',\n",
       "  'NASA (CCD) ',\n",
       "  'Success',\n",
       "  'Success'),\n",
       " ('19-01-2020',\n",
       "  '15:30:00',\n",
       "  'F9 B5 B1046.4',\n",
       "  'KSC LC-39A',\n",
       "  'Crew Dragon in-flight abort test, Starlink 3 v1.0 ',\n",
       "  12050,\n",
       "  'Sub-orbital',\n",
       "  'NASA (CTS)',\n",
       "  'Success',\n",
       "  'No attempt'),\n",
       " ('18-03-2020',\n",
       "  '12:16:00',\n",
       "  'F9 B5 B1048.5',\n",
       "  'KSC LC-39A',\n",
       "  'Starlink 5 v1.0, Starlink 6 v1.0 ',\n",
       "  15600,\n",
       "  'LEO',\n",
       "  'SpaceX',\n",
       "  'Success',\n",
       "  'Failure'),\n",
       " ('22-04-2020',\n",
       "  '19:30:00',\n",
       "  'F9 B5 B1051.4',\n",
       "  'KSC LC-39A',\n",
       "  'Starlink 6 v1.0, Crew Dragon Demo-2 ',\n",
       "  15600,\n",
       "  'LEO',\n",
       "  'SpaceX',\n",
       "  'Success',\n",
       "  'Success'),\n",
       " ('30-05-2020',\n",
       "  '19:22:00',\n",
       "  'F9 B5B1058.1 ',\n",
       "  'KSC LC-39A',\n",
       "  'Crew Dragon Demo-2, Starlink 7 v1.0 ',\n",
       "  12530,\n",
       "  'LEO (ISS)',\n",
       "  'NASA (CCDev)',\n",
       "  'Success',\n",
       "  'Success'),\n",
       " ('07-08-2020',\n",
       "  '05:12:00',\n",
       "  'F9 B5 B1051.5',\n",
       "  'KSC LC-39A',\n",
       "  'Starlink 9 v1.0, SXRS-1, Starlink 10 v1.0 ',\n",
       "  14932,\n",
       "  'LEO',\n",
       "  'SpaceX, Spaceflight Industries (BlackSky), Planet Labs',\n",
       "  'Success',\n",
       "  'Success'),\n",
       " ('03-09-2020',\n",
       "  '12:46:14',\n",
       "  'F9 B5 B1060.2 ',\n",
       "  'KSC LC-39A',\n",
       "  'Starlink 11 v1.0, Starlink 12 v1.0 ',\n",
       "  15600,\n",
       "  'LEO',\n",
       "  'SpaceX',\n",
       "  'Success',\n",
       "  'Success'),\n",
       " ('06-10-2020',\n",
       "  '11:29:34',\n",
       "  'F9 B5 B1058.3 ',\n",
       "  'KSC LC-39A',\n",
       "  'Starlink 12 v1.0, Starlink 13 v1.0 ',\n",
       "  15600,\n",
       "  'LEO',\n",
       "  'SpaceX',\n",
       "  'Success',\n",
       "  'Success'),\n",
       " ('18-10-2020',\n",
       "  '12:25:57',\n",
       "  'F9 B5 B1051.6',\n",
       "  'KSC LC-39A',\n",
       "  'Starlink 13 v1.0, Starlink 14 v1.0 ',\n",
       "  15600,\n",
       "  'LEO',\n",
       "  'SpaceX',\n",
       "  'Success',\n",
       "  'Success'),\n",
       " ('16-11-2020',\n",
       "  '00:27:00',\n",
       "  'F9 B5B1061.1 ',\n",
       "  'KSC LC-39A',\n",
       "  'Crew-1, Sentinel-6 Michael Freilich ',\n",
       "  12500,\n",
       "  'LEO (ISS)',\n",
       "  'NASA (CCP)',\n",
       "  'Success',\n",
       "  'Success'),\n",
       " ('06-12-2020',\n",
       "  '16:17:08',\n",
       "  'F9 B5 B1058.4 ',\n",
       "  'KSC LC-39A',\n",
       "  'SpaceX CRS-21',\n",
       "  2972,\n",
       "  'LEO (ISS)',\n",
       "  'NASA (CRS)',\n",
       "  'Success',\n",
       "  'Success')]"
      ]
     },
     "execution_count": 17,
     "metadata": {},
     "output_type": "execute_result"
    }
   ],
   "source": [
    "KSC_records = cur.execute(\"SELECT * from SPACEXTBL where Launch_Site = 'KSC LC-39A' \")\n",
    "KSC_records.fetchall()"
   ]
  },
  {
   "cell_type": "markdown",
   "metadata": {},
   "source": [
    "### Task 3\n",
    "\n",
    "##### Display the total payload mass carried by boosters launched by NASA (CRS)\n"
   ]
  },
  {
   "cell_type": "code",
   "execution_count": 29,
   "metadata": {},
   "outputs": [
    {
     "data": {
      "text/plain": [
       "[(7759,),\n",
       " (8963,),\n",
       " (3669,),\n",
       " (3000,),\n",
       " (3130,),\n",
       " (4200,),\n",
       " (5600,),\n",
       " (5300,),\n",
       " (2150,),\n",
       " (6092,),\n",
       " (6070,),\n",
       " (6761,),\n",
       " (67200,),\n",
       " (6460,),\n",
       " (3500,),\n",
       " (500,),\n",
       " (12055,),\n",
       " (12530,),\n",
       " (12500,),\n",
       " (525,),\n",
       " (0,),\n",
       " (45596,),\n",
       " (2617,),\n",
       " (12050,),\n",
       " (362,),\n",
       " (553,),\n",
       " (1192,),\n",
       " (5300,),\n",
       " (475,),\n",
       " (5000,),\n",
       " (3350,),\n",
       " (4850,),\n",
       " (5500,),\n",
       " (23355,),\n",
       " (5200,),\n",
       " (9296,),\n",
       " (6956,),\n",
       " (185220,),\n",
       " (31010,),\n",
       " (15440,),\n",
       " (14932,),\n",
       " (6500,),\n",
       " (4000,),\n",
       " (14135,),\n",
       " (5800,),\n",
       " (6425,),\n",
       " (3600,),\n",
       " (4707,),\n",
       " (4990,),\n",
       " (570,),\n",
       " (4311,),\n",
       " (4400,),\n",
       " (4311,)]"
      ]
     },
     "execution_count": 29,
     "metadata": {},
     "output_type": "execute_result"
    }
   ],
   "source": [
    "payload_mass = cur.execute(\"SELECT sum(payload_mass__kg_) from SPACEXTBL group by Customer\")\n",
    "payload_mass.fetchall()"
   ]
  },
  {
   "cell_type": "markdown",
   "metadata": {},
   "source": [
    "### Task 4\n",
    "\n",
    "##### Display average payload mass carried by booster version F9 v1.1\n"
   ]
  },
  {
   "cell_type": "code",
   "execution_count": null,
   "metadata": {},
   "outputs": [],
   "source": [
    "average_payload_mass = cur.execute(\"SELECT avg(payload_mass__kg_) from SPACEXTBL where  Booster_Version = F9 v1.1\")\n",
    "average_payload_mas.fetchall()"
   ]
  },
  {
   "cell_type": "markdown",
   "metadata": {},
   "source": [
    "### Task 5\n",
    "\n",
    "##### List the date where the succesful landing outcome in drone ship was acheived.\n",
    "\n",
    "*Hint:Use min function*\n"
   ]
  },
  {
   "cell_type": "code",
   "execution_count": null,
   "metadata": {},
   "outputs": [],
   "source": [
    "average_payload_mass = cur.execute(\"SELECT min(payload_mass__kg_) from SPACEXTBL where  Booster_Version = F9 v1.1\")\n",
    "average_payload_mas.fetchall()"
   ]
  },
  {
   "cell_type": "markdown",
   "metadata": {},
   "source": [
    "### Task 6\n",
    "\n",
    "##### List the names of the boosters which have success in ground pad  and have payload mass greater than 4000 but less than 6000\n"
   ]
  },
  {
   "cell_type": "code",
   "execution_count": null,
   "metadata": {},
   "outputs": [],
   "source": []
  },
  {
   "cell_type": "markdown",
   "metadata": {},
   "source": [
    "### Task 7\n",
    "\n",
    "##### List the total number of successful and failure mission outcomes\n"
   ]
  },
  {
   "cell_type": "code",
   "execution_count": null,
   "metadata": {},
   "outputs": [],
   "source": []
  },
  {
   "cell_type": "markdown",
   "metadata": {},
   "source": [
    "### Task 8\n",
    "\n",
    "##### List the   names of the booster_versions which have carried the maximum payload mass. Use a subquery\n"
   ]
  },
  {
   "cell_type": "code",
   "execution_count": null,
   "metadata": {},
   "outputs": [],
   "source": [
    "\n"
   ]
  },
  {
   "cell_type": "markdown",
   "metadata": {},
   "source": [
    "### Task 9\n",
    "\n",
    "##### List the records which will display the month names, succesful landing_outcomes in ground pad ,booster versions, launch_site for the months in year 2017\n",
    "\n",
    "**Note: SQLLite does not support monthnames. So you need to use  substr(Date, 4, 2) as month to get the months and substr(Date,7,4)='2017' for year.**\n"
   ]
  },
  {
   "cell_type": "code",
   "execution_count": null,
   "metadata": {},
   "outputs": [],
   "source": []
  },
  {
   "cell_type": "markdown",
   "metadata": {},
   "source": [
    "### Task 10\n",
    "\n",
    "##### Rank the  count of  successful landing_outcomes between the date  04-06-2010 and 20-03-2017 in descending order.\n"
   ]
  },
  {
   "cell_type": "code",
   "execution_count": null,
   "metadata": {},
   "outputs": [],
   "source": [
    "\n"
   ]
  },
  {
   "cell_type": "markdown",
   "metadata": {},
   "source": [
    "### Reference Links\n",
    "\n",
    "*   <a href =\"https://cf-courses-data.s3.us.cloud-object-storage.appdomain.cloud/IBMDeveloperSkillsNetwork-DB0201EN-SkillsNetwork/labs/Module%203/LAB-String_Patterns_Sorting_Grouping.md.html?utm_medium=Exinfluencer&utm_source=Exinfluencer&utm_content=000026UJ&utm_term=10006555&utm_id=NA-SkillsNetwork-Channel-SkillsNetworkCoursesIBMDS0321ENSkillsNetwork26802033-2022-01-01\">Hands-on Lab : String Patterns, Sorting and Grouping</a>\n",
    "\n",
    "*   <a  href=\"https://cf-courses-data.s3.us.cloud-object-storage.appdomain.cloud/IBMDeveloperSkillsNetwork-DB0201EN-SkillsNetwork/labs/Labs_Coursera_V5/labs/Lab%20-%20Built-in%20functions%20/Hands-on_Lab__Built-in_Functions.md.html?utm_medium=Exinfluencer&utm_source=Exinfluencer&utm_content=000026UJ&utm_term=10006555&utm_id=NA-SkillsNetwork-Channel-SkillsNetworkCoursesIBMDS0321ENSkillsNetwork26802033-2022-01-01\">Hands-on Lab: Built-in functions</a>\n",
    "\n",
    "*   <a  href=\"https://cf-courses-data.s3.us.cloud-object-storage.appdomain.cloud/IBMDeveloperSkillsNetwork-DB0201EN-SkillsNetwork/labs/Labs_Coursera_V5/labs/Lab%20-%20Sub-queries%20and%20Nested%20SELECTs%20/instructional-labs.md.html?utm_medium=Exinfluencer&utm_source=Exinfluencer&utm_content=000026UJ&utm_term=10006555&utm_id=NA-SkillsNetwork-Channel-SkillsNetworkCoursesIBMDS0321ENSkillsNetwork26802033-2022-01-01\">Hands-on Lab : Sub-queries and Nested SELECT Statements</a>\n",
    "\n",
    "*   <a href=\"https://cf-courses-data.s3.us.cloud-object-storage.appdomain.cloud/IBMDeveloperSkillsNetwork-DB0201EN-SkillsNetwork/labs/Module%205/DB0201EN-Week3-1-3-SQLmagic.ipynb?utm_medium=Exinfluencer&utm_source=Exinfluencer&utm_content=000026UJ&utm_term=10006555&utm_id=NA-SkillsNetwork-Channel-SkillsNetworkCoursesIBMDS0321ENSkillsNetwork26802033-2022-01-01\">Hands-on Tutorial: Accessing Databases with SQL magic</a>\n",
    "\n",
    "*   <a href= \"https://cf-courses-data.s3.us.cloud-object-storage.appdomain.cloud/IBMDeveloperSkillsNetwork-DB0201EN-SkillsNetwork/labs/Module%205/DB0201EN-Week3-1-4-Analyzing.ipynb?utm_medium=Exinfluencer&utm_source=Exinfluencer&utm_content=000026UJ&utm_term=10006555&utm_id=NA-SkillsNetwork-Channel-SkillsNetworkCoursesIBMDS0321ENSkillsNetwork26802033-2022-01-01\">Hands-on Lab: Analyzing a real World Data Set</a>\n"
   ]
  },
  {
   "cell_type": "markdown",
   "metadata": {},
   "source": [
    "## Author(s)\n",
    "\n",
    "<h4> Lakshmi Holla </h4>\n"
   ]
  },
  {
   "cell_type": "markdown",
   "metadata": {},
   "source": [
    "## Other Contributors\n",
    "\n",
    "<h4> Rav Ahuja </h4>\n"
   ]
  },
  {
   "cell_type": "markdown",
   "metadata": {},
   "source": [
    "## Change log\n",
    "\n",
    "| Date       | Version | Changed by    | Change Description        |\n",
    "| ---------- | ------- | ------------- | ------------------------- |\n",
    "| 2021-07-09 | 0.2     | Lakshmi Holla | Changes made in magic sql |\n",
    "| 2021-05-20 | 0.1     | Lakshmi Holla | Created Initial Version   |\n"
   ]
  },
  {
   "cell_type": "markdown",
   "metadata": {},
   "source": [
    "## <h3 align=\"center\"> © IBM Corporation 2021. All rights reserved. <h3/>\n"
   ]
  }
 ],
 "metadata": {
  "kernelspec": {
   "display_name": "Python",
   "language": "python",
   "name": "conda-env-python-py"
  },
  "language_info": {
   "codemirror_mode": {
    "name": "ipython",
    "version": 3
   },
   "file_extension": ".py",
   "mimetype": "text/x-python",
   "name": "python",
   "nbconvert_exporter": "python",
   "pygments_lexer": "ipython3",
   "version": "3.7.12"
  }
 },
 "nbformat": 4,
 "nbformat_minor": 4
}
